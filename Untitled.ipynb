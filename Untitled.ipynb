{
 "cells": [
  {
   "cell_type": "markdown",
   "metadata": {},
   "source": [
    "# Explaining Deceptive News Prediction Models \n",
    "### Ayton E.M., B.J. Hutchinson, D.L. Arendt, and S. Volkova.\n",
    "### ICWSM'19 Poster Session\n",
    "\n",
    "Social media plays a valuable role in rapid news dissemination, but it also serves as a vehicle to propagate unverified information. For example, news shared on Facebook or Twitter may actually contain disinformation, propaganda, hoaxes, conspiracies, clickbait or satire. This paper presents an in-depth analysis of the behavior of suspicious news classification models including error analysis and prediction confidence. We consider five deep learning architectures that leverage combinations of text, linguistic and image input signals from tweets. The behavior of these models is analyzed across four suspicious news prediction tasks. Our findings include that models leveraging only the text of tweets outperform those leveraging only the image (by 3-13% absolute in F-measure), and that models that combine image and text signals with linguistic cues e.g., biased and subjective language markers can, but do not always, perform even better.  Finally, our main contribution is a series of analyses, in which we characterize text and image traits of our classes of suspicious news and analyze patterns of errors made by the various models to inform the design of future deceptive news prediction models.\n",
    "\n",
    "[![Video demonstrating the ErrFilter tool.](ErrFilterScreenshot.png)](https://www.youtube.com/watch?v=93wKJLc9xNQ \"Video demonstrating the ErrFilter tool.\")\n",
    "\n",
    "# How to Cite\n",
    "If you this work inspires your research, please cite the following paper:\n",
    "\n",
    "[Ayton E.M., B.J. Hutchinson, D.L. Arendt, and S. Volkova. 2019. \"Explaining Deceptive News Prediction Models.\" In ICWSM 2019.](https://www.icwsm.org/2019/program/program/)\n",
    "```\n",
    "\n",
    "@inproceedings{ayton2019explainingDeceptive,\n",
    "  title={Explaining Deceptive News Prediction Models.},\n",
    "  author={Ayton, E.M. and B.J. Hutchinson and D.L. Arendt and S. Volkova},\n",
    "  booktitle={in Proceedings of the 13th International Conference on Web and Social Media},\n",
    "  year={2019},\n",
    "  organization={ICWSM}\n",
    "}\n",
    "```\n"
   ]
  },
  {
   "cell_type": "code",
   "execution_count": null,
   "metadata": {
    "collapsed": true
   },
   "outputs": [],
   "source": []
  }
 ],
 "metadata": {
  "kernelspec": {
   "display_name": "Python 3",
   "language": "python",
   "name": "python3"
  },
  "language_info": {
   "codemirror_mode": {
    "name": "ipython",
    "version": 3
   },
   "file_extension": ".py",
   "mimetype": "text/x-python",
   "name": "python",
   "nbconvert_exporter": "python",
   "pygments_lexer": "ipython3",
   "version": "3.6.8"
  }
 },
 "nbformat": 4,
 "nbformat_minor": 2
}
